{
 "cells": [
  {
   "cell_type": "code",
   "execution_count": 7,
   "id": "dc2bc424",
   "metadata": {},
   "outputs": [],
   "source": [
    "import numpy as np\n",
    "import pandas as pd\n",
    "import os\n",
    "from jupyter_datatables import init_datatables_mode\n"
   ]
  },
  {
   "cell_type": "code",
   "execution_count": 8,
   "id": "621268cd",
   "metadata": {},
   "outputs": [
    {
     "name": "stdout",
     "output_type": "stream",
     "text": [
      "/Users/thanhpham\n"
     ]
    }
   ],
   "source": [
    "home_directory = os.path.expanduser('~')\n",
    "print(home_directory)"
   ]
  },
  {
   "cell_type": "code",
   "execution_count": null,
   "id": "241ec666",
   "metadata": {},
   "outputs": [],
   "source": [
    "init_datatables_mode()"
   ]
  },
  {
   "cell_type": "code",
   "execution_count": 10,
   "id": "766125e2",
   "metadata": {},
   "outputs": [],
   "source": [
    "directory_path = \"/Users/thanhpham/Documents/Dev Git Hub (Thanh Pham)/Data Engineer Project/Data-Engineer-Project/Code/Data Transformed\"\n",
    "filename = \"athletesmd_fd.csv\""
   ]
  },
  {
   "cell_type": "code",
   "execution_count": 11,
   "id": "b87434f9",
   "metadata": {},
   "outputs": [],
   "source": [
    "full_file_path = os.path.join(directory_path, filename)"
   ]
  },
  {
   "cell_type": "code",
   "execution_count": 12,
   "id": "ced09e32",
   "metadata": {
    "require": [
     "base/js/events",
     "datatables.net",
     "d3",
     "chartjs",
     "dt-config",
     "dt-components",
     "dt-graph-objects",
     "dt-toolbar",
     "dt-tooltips",
     "jupyter-datatables"
    ]
   },
   "outputs": [
    {
     "data": {},
     "metadata": {
      "display": {
       "element": {
        "0": {},
        "length": 1
       }
      },
      "finalized": false,
      "frozen": true,
      "frozen_output": {
       "text/html": "<div id=\"7b651bf7e8d3521c840941fa88e7e518e70acb94fb79aa33d059c93cd4725ce6_wrapper\" class=\"dataTables_wrapper no-footer\"><div class=\"dt-buttons\">   <button class=\"dt-button buttons-print\" tabindex=\"0\" aria-controls=\"7b651bf7e8d3521c840941fa88e7e518e70acb94fb79aa33d059c93cd4725ce6\" type=\"button\"><span>Print</span></button> <button class=\"dt-button buttons-csv buttons-html5\" tabindex=\"0\" aria-controls=\"7b651bf7e8d3521c840941fa88e7e518e70acb94fb79aa33d059c93cd4725ce6\" type=\"button\"><span>CSV</span></button> <button class=\"dt-button buttons-pdf buttons-html5\" tabindex=\"0\" aria-controls=\"7b651bf7e8d3521c840941fa88e7e518e70acb94fb79aa33d059c93cd4725ce6\" type=\"button\"><span>PDF</span></button> </div><div class=\"dataTables_length\" id=\"7b651bf7e8d3521c840941fa88e7e518e70acb94fb79aa33d059c93cd4725ce6_length\"><label>Show <select name=\"7b651bf7e8d3521c840941fa88e7e518e70acb94fb79aa33d059c93cd4725ce6_length\" aria-controls=\"7b651bf7e8d3521c840941fa88e7e518e70acb94fb79aa33d059c93cd4725ce6\" class=\"\"><option value=\"10\">10</option><option value=\"25\">25</option><option value=\"50\">50</option><option value=\"100\">100</option></select> entries</label></div><div id=\"7b651bf7e8d3521c840941fa88e7e518e70acb94fb79aa33d059c93cd4725ce6_filter\" class=\"dataTables_filter\"><label>Search:<input type=\"search\" class=\"\" placeholder=\"\" aria-controls=\"7b651bf7e8d3521c840941fa88e7e518e70acb94fb79aa33d059c93cd4725ce6\"></label></div><div class=\"dataTables_scroll\"><div class=\"dataTables_scrollHead\" style=\"overflow: hidden; position: relative; border: 0px; width: 100%;\"><div class=\"dataTables_scrollHeadInner\" style=\"box-sizing: content-box; width: 1484px; padding-right: 0px;\"><table border=\"1\" class=\"dataframe table cell-border nowrap dataTable no-footer\" role=\"grid\" style=\"margin-left: 0px; width: 1484px;\"><thead>\n    <tr style=\"text-align: right;\" role=\"row\"><th class=\"dt-body-center dt-head-center sorting\" tabindex=\"0\" aria-controls=\"7b651bf7e8d3521c840941fa88e7e518e70acb94fb79aa33d059c93cd4725ce6\" rowspan=\"1\" colspan=\"1\" style=\"width: 0px;\" aria-label=\": activate to sort column ascending\"></th><th class=\"dt-body-center dt-head-center sorting\" tabindex=\"0\" aria-controls=\"7b651bf7e8d3521c840941fa88e7e518e70acb94fb79aa33d059c93cd4725ce6\" rowspan=\"1\" colspan=\"1\" style=\"width: 145px;\" aria-label=\"Country: activate to sort column ascending\">Country</th><th class=\"dt-body-center dt-head-center sorting\" tabindex=\"0\" aria-controls=\"7b651bf7e8d3521c840941fa88e7e518e70acb94fb79aa33d059c93cd4725ce6\" rowspan=\"1\" colspan=\"1\" style=\"width: 145px;\" aria-label=\"Athletes_Rep: activate to sort column ascending\">Athletes_Rep</th><th class=\"dt-body-center dt-head-center sorting\" tabindex=\"0\" aria-controls=\"7b651bf7e8d3521c840941fa88e7e518e70acb94fb79aa33d059c93cd4725ce6\" rowspan=\"1\" colspan=\"1\" style=\"width: 145px;\" aria-label=\"Rank: activate to sort column ascending\">Rank</th><th class=\"dt-body-center dt-head-center sorting\" tabindex=\"0\" aria-controls=\"7b651bf7e8d3521c840941fa88e7e518e70acb94fb79aa33d059c93cd4725ce6\" rowspan=\"1\" colspan=\"1\" style=\"width: 145px;\" aria-label=\"Gold: activate to sort column ascending\">Gold</th><th class=\"dt-body-center dt-head-center sorting\" tabindex=\"0\" aria-controls=\"7b651bf7e8d3521c840941fa88e7e518e70acb94fb79aa33d059c93cd4725ce6\" rowspan=\"1\" colspan=\"1\" style=\"width: 145px;\" aria-label=\"Silver: activate to sort column ascending\">Silver</th><th class=\"dt-body-center dt-head-center sorting\" tabindex=\"0\" aria-controls=\"7b651bf7e8d3521c840941fa88e7e518e70acb94fb79aa33d059c93cd4725ce6\" rowspan=\"1\" colspan=\"1\" style=\"width: 145px;\" aria-label=\"Bronze: activate to sort column ascending\">Bronze</th><th class=\"dt-body-center dt-head-center sorting\" tabindex=\"0\" aria-controls=\"7b651bf7e8d3521c840941fa88e7e518e70acb94fb79aa33d059c93cd4725ce6\" rowspan=\"1\" colspan=\"1\" style=\"width: 145px;\" aria-label=\"Total: activate to sort column ascending\">Total</th><th class=\"dt-body-center dt-head-center sorting\" tabindex=\"0\" aria-controls=\"7b651bf7e8d3521c840941fa88e7e518e70acb94fb79aa33d059c93cd4725ce6\" rowspan=\"1\" colspan=\"1\" style=\"width: 145px;\" aria-label=\"Rank by Total: activate to sort column ascending\">Rank by Total</th></tr>\n  <tr role=\"row\" class=\"dtype-preview\">\n      <th class=\" dt-body-center dt-head-center\"></th>\n      <td class=\"column-dtype-preview dt-head-center\" aria-label=\"dtype preview for column 1\"><div class=\"dtype-container\"><select role=\"option\" class=\"dtype\"><option value=\"object\">object</option></select></div></td>\n      <td class=\"column-dtype-preview dt-head-center\" aria-label=\"dtype preview for column 2\"><div class=\"dtype-container\"><select role=\"option\" class=\"dtype\"><option value=\"int64\">int64</option></select></div></td>\n      <td class=\"column-dtype-preview dt-head-center\" aria-label=\"dtype preview for column 3\"><div class=\"dtype-container\"><select role=\"option\" class=\"dtype\"><option value=\"int64\">int64</option></select></div></td>\n      <td class=\"column-dtype-preview dt-head-center\" aria-label=\"dtype preview for column 4\"><div class=\"dtype-container\"><select role=\"option\" class=\"dtype\"><option value=\"int64\">int64</option></select></div></td>\n      <td class=\"column-dtype-preview dt-head-center\" aria-label=\"dtype preview for column 5\"><div class=\"dtype-container\"><select role=\"option\" class=\"dtype\"><option value=\"int64\">int64</option></select></div></td>\n      <td class=\"column-dtype-preview dt-head-center\" aria-label=\"dtype preview for column 6\"><div class=\"dtype-container\"><select role=\"option\" class=\"dtype\"><option value=\"int64\">int64</option></select></div></td>\n      <td class=\"column-dtype-preview dt-head-center\" aria-label=\"dtype preview for column 7\"><div class=\"dtype-container\"><select role=\"option\" class=\"dtype\"><option value=\"int64\">int64</option></select></div></td>\n      <td class=\"column-dtype-preview dt-head-center\" aria-label=\"dtype preview for column 8\"><div class=\"dtype-container\"><select role=\"option\" class=\"dtype\"><option value=\"int64\">int64</option></select></div></td>\n    </tr><tr role=\"row\" class=\"column-data-preview\">\n      <th class=\" dt-body-center dt-head-center\"></th>\n      <td class=\"column-data-preview\" role=\"figure\" aria-label=\"data preview for column 1\"><div class=\"dt-chart-container\"><div is=\"dt-container\" class=\"dt-container dt-chart-toolbar\"></div><canvas width=\"125\" height=\"62\" style=\"margin: auto; display: block; height: 83px; width: 167px;\"></canvas></div></td>\n      <td class=\"column-data-preview\" role=\"figure\" aria-label=\"data preview for column 2\"><div class=\"dt-chart-container\"><div is=\"dt-container\" class=\"dt-container dt-chart-toolbar\"></div><canvas width=\"125\" height=\"62\" style=\"margin: auto; display: block; height: 83px; width: 167px;\"></canvas></div></td>\n      <td class=\"column-data-preview\" role=\"figure\" aria-label=\"data preview for column 3\"><div class=\"dt-chart-container\"><div is=\"dt-container\" class=\"dt-container dt-chart-toolbar\"></div><canvas width=\"125\" height=\"62\" style=\"margin: auto; display: block; height: 83px; width: 167px;\"></canvas></div></td>\n      <td class=\"column-data-preview\" role=\"figure\" aria-label=\"data preview for column 4\"><div class=\"dt-chart-container\"><div is=\"dt-container\" class=\"dt-container dt-chart-toolbar\"></div><canvas width=\"125\" height=\"62\" style=\"margin: auto; display: block; height: 83px; width: 167px;\"></canvas></div></td>\n      <td class=\"column-data-preview\" role=\"figure\" aria-label=\"data preview for column 5\"><div class=\"dt-chart-container\"><div is=\"dt-container\" class=\"dt-container dt-chart-toolbar\"></div><canvas width=\"125\" height=\"62\" style=\"margin: auto; display: block; height: 83px; width: 167px;\"></canvas></div></td>\n      <td class=\"column-data-preview\" role=\"figure\" aria-label=\"data preview for column 6\"><div class=\"dt-chart-container\"><div is=\"dt-container\" class=\"dt-container dt-chart-toolbar\"></div><canvas width=\"125\" height=\"62\" style=\"margin: auto; display: block; height: 83px; width: 167px;\"></canvas></div></td>\n      <td class=\"column-data-preview\" role=\"figure\" aria-label=\"data preview for column 7\"><div class=\"dt-chart-container\"><div is=\"dt-container\" class=\"dt-container dt-chart-toolbar\"></div><canvas width=\"125\" height=\"62\" style=\"margin: auto; display: block; height: 83px; width: 167px;\"></canvas></div></td>\n      <td class=\"column-data-preview\" role=\"figure\" aria-label=\"data preview for column 8\"><div class=\"dt-chart-container\"><div is=\"dt-container\" class=\"dt-container dt-chart-toolbar\"></div><canvas width=\"125\" height=\"62\" style=\"margin: auto; display: block; height: 83px; width: 167px;\"></canvas></div></td>\n    </tr></thead></table></div></div><div class=\"dataTables_scrollBody\" style=\"position: relative; overflow: auto; width: 100%;\"><table border=\"1\" class=\"dataframe table cell-border nowrap dataTable no-footer\" id=\"7b651bf7e8d3521c840941fa88e7e518e70acb94fb79aa33d059c93cd4725ce6\" role=\"grid\" aria-describedby=\"7b651bf7e8d3521c840941fa88e7e518e70acb94fb79aa33d059c93cd4725ce6_info\" style=\"width: 1485px;\"><thead>\n    <tr style=\"text-align: right; height: 12px;\" role=\"row\"><th class=\"dt-body-center dt-head-center sorting\" aria-controls=\"7b651bf7e8d3521c840941fa88e7e518e70acb94fb79aa33d059c93cd4725ce6\" rowspan=\"1\" colspan=\"1\" style=\"width: 0px; padding-top: 0px; padding-bottom: 0px; border-top-width: 0px; border-bottom-width: 0px; height: 0px;\" aria-label=\": activate to sort column ascending\"><div class=\"dataTables_sizing\" style=\"height: 0px; overflow: hidden;\"></div></th><th class=\"dt-body-center dt-head-center sorting\" aria-controls=\"7b651bf7e8d3521c840941fa88e7e518e70acb94fb79aa33d059c93cd4725ce6\" rowspan=\"1\" colspan=\"1\" style=\"width: 145px; padding-top: 0px; padding-bottom: 0px; border-top-width: 0px; border-bottom-width: 0px; height: 0px;\" aria-label=\"Country: activate to sort column ascending\"><div class=\"dataTables_sizing\" style=\"height: 0px; overflow: hidden;\">Country</div></th><th class=\"dt-body-center dt-head-center sorting\" aria-controls=\"7b651bf7e8d3521c840941fa88e7e518e70acb94fb79aa33d059c93cd4725ce6\" rowspan=\"1\" colspan=\"1\" style=\"width: 145px; padding-top: 0px; padding-bottom: 0px; border-top-width: 0px; border-bottom-width: 0px; height: 0px;\" aria-label=\"Athletes_Rep: activate to sort column ascending\"><div class=\"dataTables_sizing\" style=\"height: 0px; overflow: hidden;\">Athletes_Rep</div></th><th class=\"dt-body-center dt-head-center sorting\" aria-controls=\"7b651bf7e8d3521c840941fa88e7e518e70acb94fb79aa33d059c93cd4725ce6\" rowspan=\"1\" colspan=\"1\" style=\"width: 145px; padding-top: 0px; padding-bottom: 0px; border-top-width: 0px; border-bottom-width: 0px; height: 0px;\" aria-label=\"Rank: activate to sort column ascending\"><div class=\"dataTables_sizing\" style=\"height: 0px; overflow: hidden;\">Rank</div></th><th class=\"dt-body-center dt-head-center sorting\" aria-controls=\"7b651bf7e8d3521c840941fa88e7e518e70acb94fb79aa33d059c93cd4725ce6\" rowspan=\"1\" colspan=\"1\" style=\"width: 145px; padding-top: 0px; padding-bottom: 0px; border-top-width: 0px; border-bottom-width: 0px; height: 0px;\" aria-label=\"Gold: activate to sort column ascending\"><div class=\"dataTables_sizing\" style=\"height: 0px; overflow: hidden;\">Gold</div></th><th class=\"dt-body-center dt-head-center sorting\" aria-controls=\"7b651bf7e8d3521c840941fa88e7e518e70acb94fb79aa33d059c93cd4725ce6\" rowspan=\"1\" colspan=\"1\" style=\"width: 145px; padding-top: 0px; padding-bottom: 0px; border-top-width: 0px; border-bottom-width: 0px; height: 0px;\" aria-label=\"Silver: activate to sort column ascending\"><div class=\"dataTables_sizing\" style=\"height: 0px; overflow: hidden;\">Silver</div></th><th class=\"dt-body-center dt-head-center sorting\" aria-controls=\"7b651bf7e8d3521c840941fa88e7e518e70acb94fb79aa33d059c93cd4725ce6\" rowspan=\"1\" colspan=\"1\" style=\"width: 145px; padding-top: 0px; padding-bottom: 0px; border-top-width: 0px; border-bottom-width: 0px; height: 0px;\" aria-label=\"Bronze: activate to sort column ascending\"><div class=\"dataTables_sizing\" style=\"height: 0px; overflow: hidden;\">Bronze</div></th><th class=\"dt-body-center dt-head-center sorting\" aria-controls=\"7b651bf7e8d3521c840941fa88e7e518e70acb94fb79aa33d059c93cd4725ce6\" rowspan=\"1\" colspan=\"1\" style=\"width: 145px; padding-top: 0px; padding-bottom: 0px; border-top-width: 0px; border-bottom-width: 0px; height: 0px;\" aria-label=\"Total: activate to sort column ascending\"><div class=\"dataTables_sizing\" style=\"height: 0px; overflow: hidden;\">Total</div></th><th class=\"dt-body-center dt-head-center sorting\" aria-controls=\"7b651bf7e8d3521c840941fa88e7e518e70acb94fb79aa33d059c93cd4725ce6\" rowspan=\"1\" colspan=\"1\" style=\"width: 145px; padding-top: 0px; padding-bottom: 0px; border-top-width: 0px; border-bottom-width: 0px; height: 0px;\" aria-label=\"Rank by Total: activate to sort column ascending\"><div class=\"dataTables_sizing\" style=\"height: 0px; overflow: hidden;\">Rank by Total</div></th></tr>\n  <tr role=\"row\" class=\"dtype-preview\" style=\"height: 12px;\">\n      <th class=\" dt-body-center dt-head-center\" style=\"padding-top: 0px; padding-bottom: 0px; border-top-width: 0px; border-bottom-width: 0px; height: 0px; width: 0px;\"><div class=\"dataTables_sizing\" style=\"height: 0px; overflow: hidden;\"></div></th>\n      <td class=\"column-dtype-preview dt-head-center\" aria-label=\"dtype preview for column 1\" style=\"padding-top: 0px; padding-bottom: 0px; border-top-width: 0px; border-bottom-width: 0px; height: 0px; width: 145px;\"><div class=\"dataTables_sizing\" style=\"height: 0px; overflow: hidden;\"><div class=\"dtype-container\"><select role=\"option\" class=\"dtype\"><option value=\"object\">object</option></select></div></div></td>\n      <td class=\"column-dtype-preview dt-head-center\" aria-label=\"dtype preview for column 2\" style=\"padding-top: 0px; padding-bottom: 0px; border-top-width: 0px; border-bottom-width: 0px; height: 0px; width: 145px;\"><div class=\"dataTables_sizing\" style=\"height: 0px; overflow: hidden;\"><div class=\"dtype-container\"><select role=\"option\" class=\"dtype\"><option value=\"int64\">int64</option></select></div></div></td>\n      <td class=\"column-dtype-preview dt-head-center\" aria-label=\"dtype preview for column 3\" style=\"padding-top: 0px; padding-bottom: 0px; border-top-width: 0px; border-bottom-width: 0px; height: 0px; width: 145px;\"><div class=\"dataTables_sizing\" style=\"height: 0px; overflow: hidden;\"><div class=\"dtype-container\"><select role=\"option\" class=\"dtype\"><option value=\"int64\">int64</option></select></div></div></td>\n      <td class=\"column-dtype-preview dt-head-center\" aria-label=\"dtype preview for column 4\" style=\"padding-top: 0px; padding-bottom: 0px; border-top-width: 0px; border-bottom-width: 0px; height: 0px; width: 145px;\"><div class=\"dataTables_sizing\" style=\"height: 0px; overflow: hidden;\"><div class=\"dtype-container\"><select role=\"option\" class=\"dtype\"><option value=\"int64\">int64</option></select></div></div></td>\n      <td class=\"column-dtype-preview dt-head-center\" aria-label=\"dtype preview for column 5\" style=\"padding-top: 0px; padding-bottom: 0px; border-top-width: 0px; border-bottom-width: 0px; height: 0px; width: 145px;\"><div class=\"dataTables_sizing\" style=\"height: 0px; overflow: hidden;\"><div class=\"dtype-container\"><select role=\"option\" class=\"dtype\"><option value=\"int64\">int64</option></select></div></div></td>\n      <td class=\"column-dtype-preview dt-head-center\" aria-label=\"dtype preview for column 6\" style=\"padding-top: 0px; padding-bottom: 0px; border-top-width: 0px; border-bottom-width: 0px; height: 0px; width: 145px;\"><div class=\"dataTables_sizing\" style=\"height: 0px; overflow: hidden;\"><div class=\"dtype-container\"><select role=\"option\" class=\"dtype\"><option value=\"int64\">int64</option></select></div></div></td>\n      <td class=\"column-dtype-preview dt-head-center\" aria-label=\"dtype preview for column 7\" style=\"padding-top: 0px; padding-bottom: 0px; border-top-width: 0px; border-bottom-width: 0px; height: 0px; width: 145px;\"><div class=\"dataTables_sizing\" style=\"height: 0px; overflow: hidden;\"><div class=\"dtype-container\"><select role=\"option\" class=\"dtype\"><option value=\"int64\">int64</option></select></div></div></td>\n      <td class=\"column-dtype-preview dt-head-center\" aria-label=\"dtype preview for column 8\" style=\"padding-top: 0px; padding-bottom: 0px; border-top-width: 0px; border-bottom-width: 0px; height: 0px; width: 145px;\"><div class=\"dataTables_sizing\" style=\"height: 0px; overflow: hidden;\"><div class=\"dtype-container\"><select role=\"option\" class=\"dtype\"><option value=\"int64\">int64</option></select></div></div></td>\n    </tr><tr role=\"row\" class=\"column-data-preview\" style=\"height: 12px;\">\n      <th class=\" dt-body-center dt-head-center\" style=\"width: 0px; padding-top: 0px; padding-bottom: 0px; border-top-width: 0px; border-bottom-width: 0px; height: 0px;\"><div class=\"dataTables_sizing\" style=\"height: 0px; overflow: hidden;\"></div></th>\n      <td class=\"column-data-preview\" role=\"figure\" aria-label=\"data preview for column 1\" style=\"width: 167px; padding-top: 0px; padding-bottom: 0px; border-top-width: 0px; border-bottom-width: 0px; height: 0px;\"><div class=\"dataTables_sizing\" style=\"height: 0px; overflow: hidden;\"><div class=\"dt-chart-container\"><div is=\"dt-container\" class=\"dt-container dt-chart-toolbar\"></div><canvas width=\"125\" height=\"62\" style=\"margin: auto; display: block; height: 83px; width: 167px;\"></canvas></div></div></td>\n      <td class=\"column-data-preview\" role=\"figure\" aria-label=\"data preview for column 2\" style=\"width: 167px; padding-top: 0px; padding-bottom: 0px; border-top-width: 0px; border-bottom-width: 0px; height: 0px;\"><div class=\"dataTables_sizing\" style=\"height: 0px; overflow: hidden;\"><div class=\"dt-chart-container\"><div is=\"dt-container\" class=\"dt-container dt-chart-toolbar\"></div><canvas width=\"125\" height=\"62\" style=\"margin: auto; display: block; height: 83px; width: 167px;\"></canvas></div></div></td>\n      <td class=\"column-data-preview\" role=\"figure\" aria-label=\"data preview for column 3\" style=\"width: 167px; padding-top: 0px; padding-bottom: 0px; border-top-width: 0px; border-bottom-width: 0px; height: 0px;\"><div class=\"dataTables_sizing\" style=\"height: 0px; overflow: hidden;\"><div class=\"dt-chart-container\"><div is=\"dt-container\" class=\"dt-container dt-chart-toolbar\"></div><canvas width=\"125\" height=\"62\" style=\"margin: auto; display: block; height: 83px; width: 167px;\"></canvas></div></div></td>\n      <td class=\"column-data-preview\" role=\"figure\" aria-label=\"data preview for column 4\" style=\"width: 167px; padding-top: 0px; padding-bottom: 0px; border-top-width: 0px; border-bottom-width: 0px; height: 0px;\"><div class=\"dataTables_sizing\" style=\"height: 0px; overflow: hidden;\"><div class=\"dt-chart-container\"><div is=\"dt-container\" class=\"dt-container dt-chart-toolbar\"></div><canvas width=\"125\" height=\"62\" style=\"margin: auto; display: block; height: 83px; width: 167px;\"></canvas></div></div></td>\n      <td class=\"column-data-preview\" role=\"figure\" aria-label=\"data preview for column 5\" style=\"width: 167px; padding-top: 0px; padding-bottom: 0px; border-top-width: 0px; border-bottom-width: 0px; height: 0px;\"><div class=\"dataTables_sizing\" style=\"height: 0px; overflow: hidden;\"><div class=\"dt-chart-container\"><div is=\"dt-container\" class=\"dt-container dt-chart-toolbar\"></div><canvas width=\"125\" height=\"62\" style=\"margin: auto; display: block; height: 83px; width: 167px;\"></canvas></div></div></td>\n      <td class=\"column-data-preview\" role=\"figure\" aria-label=\"data preview for column 6\" style=\"width: 167px; padding-top: 0px; padding-bottom: 0px; border-top-width: 0px; border-bottom-width: 0px; height: 0px;\"><div class=\"dataTables_sizing\" style=\"height: 0px; overflow: hidden;\"><div class=\"dt-chart-container\"><div is=\"dt-container\" class=\"dt-container dt-chart-toolbar\"></div><canvas width=\"125\" height=\"62\" style=\"margin: auto; display: block; height: 83px; width: 167px;\"></canvas></div></div></td>\n      <td class=\"column-data-preview\" role=\"figure\" aria-label=\"data preview for column 7\" style=\"width: 167px; padding-top: 0px; padding-bottom: 0px; border-top-width: 0px; border-bottom-width: 0px; height: 0px;\"><div class=\"dataTables_sizing\" style=\"height: 0px; overflow: hidden;\"><div class=\"dt-chart-container\"><div is=\"dt-container\" class=\"dt-container dt-chart-toolbar\"></div><canvas width=\"125\" height=\"62\" style=\"margin: auto; display: block; height: 83px; width: 167px;\"></canvas></div></div></td>\n      <td class=\"column-data-preview\" role=\"figure\" aria-label=\"data preview for column 8\" style=\"width: 167px; padding-top: 0px; padding-bottom: 0px; border-top-width: 0px; border-bottom-width: 0px; height: 0px;\"><div class=\"dataTables_sizing\" style=\"height: 0px; overflow: hidden;\"><div class=\"dt-chart-container\"><div is=\"dt-container\" class=\"dt-container dt-chart-toolbar\"></div><canvas width=\"125\" height=\"62\" style=\"margin: auto; display: block; height: 83px; width: 167px;\"></canvas></div></div></td>\n    </tr></thead>\n  \n  <tbody>\n    \n    \n    \n    \n    \n    \n    \n    \n    \n    \n    \n    \n    \n    \n    \n    \n    \n    \n    \n    \n    \n    \n    \n    \n    \n    \n    \n    \n    \n    \n    \n    \n    \n    \n    \n    \n    \n    \n    \n    \n    \n    \n    \n    \n    \n    \n    \n    \n    \n    \n    \n    \n    \n    \n    \n    \n    \n    \n    \n    \n    \n    \n    \n    \n    \n    \n    \n    \n    \n    \n    \n    \n    \n    \n    \n    \n    \n    \n    \n    \n    \n    \n    \n    \n    \n    \n    \n    \n    \n    \n    \n    \n    \n  <tr role=\"row\" class=\"odd\">\n      <th class=\" dt-body-center dt-head-center\">0</th>\n      <td class=\" dt-body-center dt-head-center\">Islamic Republic of Iran</td>\n      <td class=\" dt-body-center dt-head-center\">66</td>\n      <td class=\" dt-body-center dt-head-center\">27</td>\n      <td class=\" dt-body-center dt-head-center\">3</td>\n      <td class=\" dt-body-center dt-head-center\">2</td>\n      <td class=\" dt-body-center dt-head-center\">2</td>\n      <td class=\" dt-body-center dt-head-center\">7</td>\n      <td class=\" dt-body-center dt-head-center\">33</td>\n    </tr><tr role=\"row\" class=\"even\">\n      <th class=\" dt-body-center dt-head-center\">1</th>\n      <td class=\" dt-body-center dt-head-center\">Chinese Taipei</td>\n      <td class=\" dt-body-center dt-head-center\">67</td>\n      <td class=\" dt-body-center dt-head-center\">34</td>\n      <td class=\" dt-body-center dt-head-center\">2</td>\n      <td class=\" dt-body-center dt-head-center\">4</td>\n      <td class=\" dt-body-center dt-head-center\">6</td>\n      <td class=\" dt-body-center dt-head-center\">12</td>\n      <td class=\" dt-body-center dt-head-center\">22</td>\n    </tr><tr role=\"row\" class=\"odd\">\n      <th class=\" dt-body-center dt-head-center\">2</th>\n      <td class=\" dt-body-center dt-head-center\">Sweden</td>\n      <td class=\" dt-body-center dt-head-center\">129</td>\n      <td class=\" dt-body-center dt-head-center\">23</td>\n      <td class=\" dt-body-center dt-head-center\">3</td>\n      <td class=\" dt-body-center dt-head-center\">6</td>\n      <td class=\" dt-body-center dt-head-center\">0</td>\n      <td class=\" dt-body-center dt-head-center\">9</td>\n      <td class=\" dt-body-center dt-head-center\">26</td>\n    </tr><tr role=\"row\" class=\"even\">\n      <th class=\" dt-body-center dt-head-center\">3</th>\n      <td class=\" dt-body-center dt-head-center\">Republic of Korea</td>\n      <td class=\" dt-body-center dt-head-center\">223</td>\n      <td class=\" dt-body-center dt-head-center\">16</td>\n      <td class=\" dt-body-center dt-head-center\">6</td>\n      <td class=\" dt-body-center dt-head-center\">4</td>\n      <td class=\" dt-body-center dt-head-center\">10</td>\n      <td class=\" dt-body-center dt-head-center\">20</td>\n      <td class=\" dt-body-center dt-head-center\">13</td>\n    </tr><tr role=\"row\" class=\"odd\">\n      <th class=\" dt-body-center dt-head-center\">4</th>\n      <td class=\" dt-body-center dt-head-center\">Philippines</td>\n      <td class=\" dt-body-center dt-head-center\">18</td>\n      <td class=\" dt-body-center dt-head-center\">50</td>\n      <td class=\" dt-body-center dt-head-center\">1</td>\n      <td class=\" dt-body-center dt-head-center\">2</td>\n      <td class=\" dt-body-center dt-head-center\">1</td>\n      <td class=\" dt-body-center dt-head-center\">4</td>\n      <td class=\" dt-body-center dt-head-center\">47</td>\n    </tr><tr role=\"row\" class=\"even\">\n      <th class=\" dt-body-center dt-head-center\">5</th>\n      <td class=\" dt-body-center dt-head-center\">Malaysia</td>\n      <td class=\" dt-body-center dt-head-center\">29</td>\n      <td class=\" dt-body-center dt-head-center\">74</td>\n      <td class=\" dt-body-center dt-head-center\">0</td>\n      <td class=\" dt-body-center dt-head-center\">1</td>\n      <td class=\" dt-body-center dt-head-center\">1</td>\n      <td class=\" dt-body-center dt-head-center\">2</td>\n      <td class=\" dt-body-center dt-head-center\">66</td>\n    </tr><tr role=\"row\" class=\"odd\">\n      <th class=\" dt-body-center dt-head-center\">6</th>\n      <td class=\" dt-body-center dt-head-center\">Fiji</td>\n      <td class=\" dt-body-center dt-head-center\">28</td>\n      <td class=\" dt-body-center dt-head-center\">59</td>\n      <td class=\" dt-body-center dt-head-center\">1</td>\n      <td class=\" dt-body-center dt-head-center\">0</td>\n      <td class=\" dt-body-center dt-head-center\">1</td>\n      <td class=\" dt-body-center dt-head-center\">2</td>\n      <td class=\" dt-body-center dt-head-center\">66</td>\n    </tr><tr role=\"row\" class=\"even\">\n      <th class=\" dt-body-center dt-head-center\">7</th>\n      <td class=\" dt-body-center dt-head-center\">Turkey</td>\n      <td class=\" dt-body-center dt-head-center\">102</td>\n      <td class=\" dt-body-center dt-head-center\">35</td>\n      <td class=\" dt-body-center dt-head-center\">2</td>\n      <td class=\" dt-body-center dt-head-center\">2</td>\n      <td class=\" dt-body-center dt-head-center\">9</td>\n      <td class=\" dt-body-center dt-head-center\">13</td>\n      <td class=\" dt-body-center dt-head-center\">20</td>\n    </tr><tr role=\"row\" class=\"odd\">\n      <th class=\" dt-body-center dt-head-center\">8</th>\n      <td class=\" dt-body-center dt-head-center\">Germany</td>\n      <td class=\" dt-body-center dt-head-center\">400</td>\n      <td class=\" dt-body-center dt-head-center\">9</td>\n      <td class=\" dt-body-center dt-head-center\">10</td>\n      <td class=\" dt-body-center dt-head-center\">11</td>\n      <td class=\" dt-body-center dt-head-center\">16</td>\n      <td class=\" dt-body-center dt-head-center\">37</td>\n      <td class=\" dt-body-center dt-head-center\">8</td>\n    </tr><tr role=\"row\" class=\"even\">\n      <th class=\" dt-body-center dt-head-center\">9</th>\n      <td class=\" dt-body-center dt-head-center\">Jordan</td>\n      <td class=\" dt-body-center dt-head-center\">11</td>\n      <td class=\" dt-body-center dt-head-center\">74</td>\n      <td class=\" dt-body-center dt-head-center\">0</td>\n      <td class=\" dt-body-center dt-head-center\">1</td>\n      <td class=\" dt-body-center dt-head-center\">1</td>\n      <td class=\" dt-body-center dt-head-center\">2</td>\n      <td class=\" dt-body-center dt-head-center\">66</td>\n    </tr></tbody>\n</table></div></div><div class=\"dataTables_info\" id=\"7b651bf7e8d3521c840941fa88e7e518e70acb94fb79aa33d059c93cd4725ce6_info\" role=\"status\" aria-live=\"polite\">Showing 1 to 10 of 93 entries</div><div class=\"dataTables_paginate paging_simple_numbers\" id=\"7b651bf7e8d3521c840941fa88e7e518e70acb94fb79aa33d059c93cd4725ce6_paginate\"><a class=\"paginate_button previous disabled\" aria-controls=\"7b651bf7e8d3521c840941fa88e7e518e70acb94fb79aa33d059c93cd4725ce6\" data-dt-idx=\"0\" tabindex=\"0\" id=\"7b651bf7e8d3521c840941fa88e7e518e70acb94fb79aa33d059c93cd4725ce6_previous\">Previous</a><span><a class=\"paginate_button current\" aria-controls=\"7b651bf7e8d3521c840941fa88e7e518e70acb94fb79aa33d059c93cd4725ce6\" data-dt-idx=\"1\" tabindex=\"0\">1</a><a class=\"paginate_button \" aria-controls=\"7b651bf7e8d3521c840941fa88e7e518e70acb94fb79aa33d059c93cd4725ce6\" data-dt-idx=\"2\" tabindex=\"0\">2</a><a class=\"paginate_button \" aria-controls=\"7b651bf7e8d3521c840941fa88e7e518e70acb94fb79aa33d059c93cd4725ce6\" data-dt-idx=\"3\" tabindex=\"0\">3</a><a class=\"paginate_button \" aria-controls=\"7b651bf7e8d3521c840941fa88e7e518e70acb94fb79aa33d059c93cd4725ce6\" data-dt-idx=\"4\" tabindex=\"0\">4</a><a class=\"paginate_button \" aria-controls=\"7b651bf7e8d3521c840941fa88e7e518e70acb94fb79aa33d059c93cd4725ce6\" data-dt-idx=\"5\" tabindex=\"0\">5</a><span class=\"ellipsis\">…</span><a class=\"paginate_button \" aria-controls=\"7b651bf7e8d3521c840941fa88e7e518e70acb94fb79aa33d059c93cd4725ce6\" data-dt-idx=\"6\" tabindex=\"0\">10</a></span><a class=\"paginate_button next\" aria-controls=\"7b651bf7e8d3521c840941fa88e7e518e70acb94fb79aa33d059c93cd4725ce6\" data-dt-idx=\"7\" tabindex=\"0\" id=\"7b651bf7e8d3521c840941fa88e7e518e70acb94fb79aa33d059c93cd4725ce6_next\">Next</a></div></div>",
       "text/plain": "<JupyterRequire.display.FrozenOutput object>"
      }
     },
     "output_type": "display_data"
    },
    {
     "data": {
      "application/javascript": "{ \n    setTimeout(() => {\n        const table_id = '7b651bf7e8d3521c840941fa88e7e518e70acb94fb79aa33d059c93cd4725ce6';\n        const table    = $(`#${table_id}_wrapper`);\n        \n        let scrollHead = table.find('div.dataTables_scrollHead');\n        let scrollBody = table.find('div.dataTables_scrollBody');\n        \n        $(scrollBody).on(\n            'scroll',\n            (e) => {\n                scrollHead.scrollLeft(scrollBody.scrollLeft());\n            },\n        );\n    }, 200);\n     }",
      "text/plain": [
       "<JupyterRequire.display.SafeScript object>"
      ]
     },
     "metadata": {
      "finalized": true
     },
     "output_type": "display_data"
    },
    {
     "data": {
      "application/javascript": "\n    (function() {\n        const sample_size = Number(93).toLocaleString();\n        const adjusted = Boolean('False' == 'True')\n\n        const total = Number(93).toLocaleString();\n\n        element.append($('<p>').text(\n            `Sample size: ${sample_size} out of ${total} ${ adjusted ? \"(adjusted)\" : \"\" }`));\n    }());\n    ",
      "text/html": [
       "<div>\n",
       "<style scoped>\n",
       "    .dataframe tbody tr th:only-of-type {\n",
       "        vertical-align: middle;\n",
       "    }\n",
       "\n",
       "    .dataframe tbody tr th {\n",
       "        vertical-align: top;\n",
       "    }\n",
       "\n",
       "    .dataframe thead th {\n",
       "        text-align: right;\n",
       "    }\n",
       "</style>\n",
       "<table border=\"1\" class=\"dataframe\">\n",
       "  <thead>\n",
       "    <tr style=\"text-align: right;\">\n",
       "      <th></th>\n",
       "      <th>Country</th>\n",
       "      <th>Athletes_Rep</th>\n",
       "      <th>Rank</th>\n",
       "      <th>Gold</th>\n",
       "      <th>Silver</th>\n",
       "      <th>Bronze</th>\n",
       "      <th>Total</th>\n",
       "      <th>Rank by Total</th>\n",
       "    </tr>\n",
       "  </thead>\n",
       "  <tbody>\n",
       "    <tr>\n",
       "      <th>0</th>\n",
       "      <td>Islamic Republic of Iran</td>\n",
       "      <td>66</td>\n",
       "      <td>27</td>\n",
       "      <td>3</td>\n",
       "      <td>2</td>\n",
       "      <td>2</td>\n",
       "      <td>7</td>\n",
       "      <td>33</td>\n",
       "    </tr>\n",
       "    <tr>\n",
       "      <th>1</th>\n",
       "      <td>Chinese Taipei</td>\n",
       "      <td>67</td>\n",
       "      <td>34</td>\n",
       "      <td>2</td>\n",
       "      <td>4</td>\n",
       "      <td>6</td>\n",
       "      <td>12</td>\n",
       "      <td>22</td>\n",
       "    </tr>\n",
       "    <tr>\n",
       "      <th>2</th>\n",
       "      <td>Sweden</td>\n",
       "      <td>129</td>\n",
       "      <td>23</td>\n",
       "      <td>3</td>\n",
       "      <td>6</td>\n",
       "      <td>0</td>\n",
       "      <td>9</td>\n",
       "      <td>26</td>\n",
       "    </tr>\n",
       "    <tr>\n",
       "      <th>3</th>\n",
       "      <td>Republic of Korea</td>\n",
       "      <td>223</td>\n",
       "      <td>16</td>\n",
       "      <td>6</td>\n",
       "      <td>4</td>\n",
       "      <td>10</td>\n",
       "      <td>20</td>\n",
       "      <td>13</td>\n",
       "    </tr>\n",
       "    <tr>\n",
       "      <th>4</th>\n",
       "      <td>Philippines</td>\n",
       "      <td>18</td>\n",
       "      <td>50</td>\n",
       "      <td>1</td>\n",
       "      <td>2</td>\n",
       "      <td>1</td>\n",
       "      <td>4</td>\n",
       "      <td>47</td>\n",
       "    </tr>\n",
       "    <tr>\n",
       "      <th>...</th>\n",
       "      <td>...</td>\n",
       "      <td>...</td>\n",
       "      <td>...</td>\n",
       "      <td>...</td>\n",
       "      <td>...</td>\n",
       "      <td>...</td>\n",
       "      <td>...</td>\n",
       "      <td>...</td>\n",
       "    </tr>\n",
       "    <tr>\n",
       "      <th>88</th>\n",
       "      <td>ROC</td>\n",
       "      <td>318</td>\n",
       "      <td>5</td>\n",
       "      <td>20</td>\n",
       "      <td>28</td>\n",
       "      <td>23</td>\n",
       "      <td>71</td>\n",
       "      <td>3</td>\n",
       "    </tr>\n",
       "    <tr>\n",
       "      <th>89</th>\n",
       "      <td>Colombia</td>\n",
       "      <td>64</td>\n",
       "      <td>66</td>\n",
       "      <td>0</td>\n",
       "      <td>4</td>\n",
       "      <td>1</td>\n",
       "      <td>5</td>\n",
       "      <td>42</td>\n",
       "    </tr>\n",
       "    <tr>\n",
       "      <th>90</th>\n",
       "      <td>Hungary</td>\n",
       "      <td>155</td>\n",
       "      <td>15</td>\n",
       "      <td>6</td>\n",
       "      <td>7</td>\n",
       "      <td>7</td>\n",
       "      <td>20</td>\n",
       "      <td>13</td>\n",
       "    </tr>\n",
       "    <tr>\n",
       "      <th>91</th>\n",
       "      <td>Syrian Arab Republic</td>\n",
       "      <td>6</td>\n",
       "      <td>86</td>\n",
       "      <td>0</td>\n",
       "      <td>0</td>\n",
       "      <td>1</td>\n",
       "      <td>1</td>\n",
       "      <td>77</td>\n",
       "    </tr>\n",
       "    <tr>\n",
       "      <th>92</th>\n",
       "      <td>Netherlands</td>\n",
       "      <td>274</td>\n",
       "      <td>7</td>\n",
       "      <td>10</td>\n",
       "      <td>12</td>\n",
       "      <td>14</td>\n",
       "      <td>36</td>\n",
       "      <td>9</td>\n",
       "    </tr>\n",
       "  </tbody>\n",
       "</table>\n",
       "<p>93 rows × 8 columns</p>\n",
       "</div>"
      ],
      "text/plain": [
       "                     Country  Athletes_Rep  Rank  Gold  Silver  Bronze  Total  \\\n",
       "0   Islamic Republic of Iran            66    27     3       2       2      7   \n",
       "1             Chinese Taipei            67    34     2       4       6     12   \n",
       "2                     Sweden           129    23     3       6       0      9   \n",
       "3          Republic of Korea           223    16     6       4      10     20   \n",
       "4                Philippines            18    50     1       2       1      4   \n",
       "..                       ...           ...   ...   ...     ...     ...    ...   \n",
       "88                       ROC           318     5    20      28      23     71   \n",
       "89                  Colombia            64    66     0       4       1      5   \n",
       "90                   Hungary           155    15     6       7       7     20   \n",
       "91      Syrian Arab Republic             6    86     0       0       1      1   \n",
       "92               Netherlands           274     7    10      12      14     36   \n",
       "\n",
       "    Rank by Total  \n",
       "0              33  \n",
       "1              22  \n",
       "2              26  \n",
       "3              13  \n",
       "4              47  \n",
       "..            ...  \n",
       "88              3  \n",
       "89             42  \n",
       "90             13  \n",
       "91             77  \n",
       "92              9  \n",
       "\n",
       "[93 rows x 8 columns]"
      ]
     },
     "execution_count": 12,
     "metadata": {},
     "output_type": "execute_result"
    }
   ],
   "source": [
    "pd.read_csv(full_file_path)"
   ]
  },
  {
   "cell_type": "code",
   "execution_count": null,
   "id": "4bf86008",
   "metadata": {},
   "outputs": [],
   "source": []
  }
 ],
 "metadata": {
  "kernelspec": {
   "display_name": "Python 3 (ipykernel)",
   "language": "python",
   "name": "python3"
  },
  "language_info": {
   "codemirror_mode": {
    "name": "ipython",
    "version": 3
   },
   "file_extension": ".py",
   "mimetype": "text/x-python",
   "name": "python",
   "nbconvert_exporter": "python",
   "pygments_lexer": "ipython3",
   "version": "3.9.12"
  },
  "require": {
   "paths": {
    "buttons.colvis": "https://cdn.datatables.net/buttons/1.5.6/js/buttons.colVis.min",
    "buttons.flash": "https://cdn.datatables.net/buttons/1.5.6/js/buttons.flash.min",
    "buttons.html5": "https://cdn.datatables.net/buttons/1.5.6/js/buttons.html5.min",
    "buttons.print": "https://cdn.datatables.net/buttons/1.5.6/js/buttons.print.min",
    "chartjs": "https://cdnjs.cloudflare.com/ajax/libs/Chart.js/2.8.0/Chart",
    "d3": "https://d3js.org/d3.v5.min",
    "d3-array": "https://d3js.org/d3-array.v2.min",
    "datatables.net": "https://cdn.datatables.net/1.10.18/js/jquery.dataTables",
    "datatables.net-buttons": "https://cdn.datatables.net/buttons/1.5.6/js/dataTables.buttons.min",
    "datatables.responsive": "https://cdn.datatables.net/responsive/2.2.2/js/dataTables.responsive.min",
    "datatables.scroller": "https://cdn.datatables.net/scroller/2.0.0/js/dataTables.scroller.min",
    "datatables.select": "https://cdn.datatables.net/select/1.3.0/js/dataTables.select.min",
    "jszip": "https://cdnjs.cloudflare.com/ajax/libs/jszip/2.5.0/jszip.min",
    "moment": "https://cdnjs.cloudflare.com/ajax/libs/moment.js/2.8.0/moment",
    "pdfmake": "https://cdnjs.cloudflare.com/ajax/libs/pdfmake/0.1.36/pdfmake.min",
    "vfsfonts": "https://cdnjs.cloudflare.com/ajax/libs/pdfmake/0.1.36/vfs_fonts"
   },
   "shim": {
    "buttons.colvis": {
     "deps": [
      "jszip",
      "datatables.net-buttons"
     ]
    },
    "buttons.flash": {
     "deps": [
      "jszip",
      "datatables.net-buttons"
     ]
    },
    "buttons.html5": {
     "deps": [
      "jszip",
      "datatables.net-buttons"
     ]
    },
    "buttons.print": {
     "deps": [
      "jszip",
      "datatables.net-buttons"
     ]
    },
    "chartjs": {
     "deps": [
      "moment"
     ]
    },
    "datatables.net": {
     "exports": "$.fn.dataTable"
    },
    "datatables.net-buttons": {
     "deps": [
      "datatables.net"
     ]
    },
    "pdfmake": {
     "deps": [
      "datatables.net"
     ]
    },
    "vfsfonts": {
     "deps": [
      "datatables.net"
     ]
    }
   }
  }
 },
 "nbformat": 4,
 "nbformat_minor": 5
}
